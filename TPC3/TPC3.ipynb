{
 "cells": [
  {
   "cell_type": "code",
   "execution_count": null,
   "metadata": {},
   "outputs": [],
   "source": [
    "#ADIVINHA O NÚMERO!\n",
    "# O computador tenta adivinhar o número que o jogador pensou!\n",
    "print (\"INÍCIO DO JOGO!\")\n",
    "n = int(input(\"Escolhe um número de 0 a 100\"))\n",
    "tentativas = 0\n",
    "from random import randint\n",
    "resposta = randint(0, 100)\n",
    "while resposta != n:\n",
    "    print(\"O número que o computador escolheu foi\", resposta, \".\")\n",
    "    x = input(\"O número é menor ou maior?\")\n",
    "    tentativas= tentativas + 1\n",
    "    if x == \"menor\":\n",
    "        from random import randint\n",
    "        resposta = randint(0,resposta)\n",
    "    elif x == \"maior\":\n",
    "        from random import randint\n",
    "        resposta = randint(resposta, 100)\n",
    "if resposta == n:\n",
    "    tentativas = tentativas + 1\n",
    "    print(\"O número que o computador escolheu foi\", resposta, \". O computador está de parabéns!. Este acertou o número em\", tentativas, \"tentativas. \\nFIM DO JOGO!\")"
   ]
  },
  {
   "cell_type": "code",
   "execution_count": null,
   "metadata": {},
   "outputs": [],
   "source": [
    "# ADIVINHA O NÚMERO!\n",
    "# O jogador tenta adivinhar o número que o computador pensou!\n",
    "print (\"INÍCIO DO JOGO!\")\n",
    "from random import randint\n",
    "resposta = randint(0, 100)\n",
    "tentativas = 0\n",
    "n = int(input(\"Escolhe um número de 0 a 100.\"))\n",
    "while n != resposta:\n",
    "    tentativas= tentativas + 1\n",
    "    if n > resposta:\n",
    "        print(\"O número que o computador escolheu é menor.\")\n",
    "        n = int(input(\"Escolhe um número de 0 a 100.\"))\n",
    "    elif n < resposta:\n",
    "        print(\"O número que o computador escolheu é maior.\")\n",
    "        n = int(input(\"Escolhe um número de 0 a 100.\"))\n",
    "if n == resposta:\n",
    "        tentativas = tentativas + 1\n",
    "        print(\"Parabéns! O número que o computador pensou foi \",resposta, \". Acertas te em\", tentativas, \"tentativas. \\nFIM DO JOGO!\")"
   ]
  }
 ],
 "metadata": {
  "kernelspec": {
   "display_name": "Python 3",
   "language": "python",
   "name": "python3"
  },
  "language_info": {
   "codemirror_mode": {
    "name": "ipython",
    "version": 3
   },
   "file_extension": ".py",
   "mimetype": "text/x-python",
   "name": "python",
   "nbconvert_exporter": "python",
   "pygments_lexer": "ipython3",
   "version": "3.11.5"
  },
  "orig_nbformat": 4
 },
 "nbformat": 4,
 "nbformat_minor": 2
}
